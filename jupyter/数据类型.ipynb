{
 "cells": [
  {
   "attachments": {},
   "cell_type": "markdown",
   "metadata": {},
   "source": [
    "字符串数据类型转换"
   ]
  },
  {
   "cell_type": "code",
   "execution_count": null,
   "metadata": {},
   "outputs": [],
   "source": [
    "# 这是一个整数类型的 2\n",
    "a = 2\n",
    "# 这是一个字符串变量\n",
    "b = ''\n",
    "# 将 a 中整数类型的 2 转换为字符串类型的 2 并赋值给 b\n",
    "b = str(a)\n",
    "# 输出 b，此时应该是字符串类型的 b\n",
    "print(b)\n",
    "# 输出 b 的类型\n",
    "print(type(b))"
   ]
  },
  {
   "attachments": {},
   "cell_type": "markdown",
   "metadata": {},
   "source": [
    "整数数据类型转换"
   ]
  },
  {
   "cell_type": "code",
   "execution_count": null,
   "metadata": {},
   "outputs": [],
   "source": [
    "# 显然 a 是一个浮点数数据类型\n",
    "a = 1.1\n",
    "# 将 a 转换为整数并赋值给 b\n",
    "b = int(a)\n",
    "# b 存储的是 1，输出 1\n",
    "print(b)"
   ]
  },
  {
   "attachments": {},
   "cell_type": "markdown",
   "metadata": {},
   "source": [
    "整数数据类型转换是否可以转换字符串"
   ]
  },
  {
   "cell_type": "code",
   "execution_count": 1,
   "metadata": {},
   "outputs": [
    {
     "name": "stdout",
     "output_type": "stream",
     "text": [
      "1\n"
     ]
    },
    {
     "ename": "ValueError",
     "evalue": "invalid literal for int() with base 10: 'hello'",
     "output_type": "error",
     "traceback": [
      "\u001b[1;31m---------------------------------------------------------------------------\u001b[0m",
      "\u001b[1;31mValueError\u001b[0m                                Traceback (most recent call last)",
      "Cell \u001b[1;32mIn[1], line 11\u001b[0m\n\u001b[0;32m      9\u001b[0m c \u001b[39m=\u001b[39m \u001b[39m'\u001b[39m\u001b[39mhello\u001b[39m\u001b[39m'\u001b[39m\n\u001b[0;32m     10\u001b[0m \u001b[39m# 将 c 的值转换为整数数据类型并赋值给 d\u001b[39;00m\n\u001b[1;32m---> 11\u001b[0m d \u001b[39m=\u001b[39m \u001b[39mint\u001b[39;49m(c)\n\u001b[0;32m     12\u001b[0m \u001b[39m# 报错\u001b[39;00m\n\u001b[0;32m     13\u001b[0m \u001b[39mprint\u001b[39m(d)\n",
      "\u001b[1;31mValueError\u001b[0m: invalid literal for int() with base 10: 'hello'"
     ]
    }
   ],
   "source": [
    "# a 是字符串数据类型的 1\n",
    "a = '1'\n",
    "# 将 a 的值转换为整数数据类型并赋值给 b\n",
    "b = int(a)\n",
    "# 输出 b，b 存储的是整数类型的 1\n",
    "print(b)\n",
    "\n",
    "# c 是字符串类型的 hello\n",
    "c = 'hello'\n",
    "# 将 c 的值转换为整数数据类型并赋值给 d\n",
    "d = int(c)\n",
    "# 报错\n",
    "print(d)"
   ]
  },
  {
   "attachments": {},
   "cell_type": "markdown",
   "metadata": {},
   "source": [
    "浮点数数据类型转换"
   ]
  },
  {
   "cell_type": "code",
   "execution_count": null,
   "metadata": {},
   "outputs": [],
   "source": [
    "# a 是字符串数据类型的 1\n",
    "a = '1'\n",
    "# 将 a 的值转换为整数数据类型并赋值给 b\n",
    "b = int(a)\n",
    "# 输出 b，b 存储的是整数类型的 1\n",
    "print(b)\n",
    "\n",
    "# c 是字符串类型的 hello\n",
    "c = 'hello'\n",
    "# 将 c 的值转换为整数数据类型并赋值给 d\n",
    "d = int(c)\n",
    "# 报错\n",
    "print(d)"
   ]
  },
  {
   "attachments": {},
   "cell_type": "markdown",
   "metadata": {},
   "source": [
    "布尔数据类型演示"
   ]
  },
  {
   "cell_type": "code",
   "execution_count": null,
   "metadata": {},
   "outputs": [],
   "source": [
    "a = 3\n",
    "b = 2\n",
    "# 判断 a 是否大于 b 。因为 a 确实大于 b，所以输出 True\n",
    "print(a > b)\n",
    "\n",
    "# 判断 5 是否小于 4 。因为 5 不小于 4，所以输出 False\n",
    "print(5 < 4)"
   ]
  }
 ],
 "metadata": {
  "kernelspec": {
   "display_name": "Python 3",
   "language": "python",
   "name": "python3"
  },
  "language_info": {
   "codemirror_mode": {
    "name": "ipython",
    "version": 3
   },
   "file_extension": ".py",
   "mimetype": "text/x-python",
   "name": "python",
   "nbconvert_exporter": "python",
   "pygments_lexer": "ipython3",
   "version": "3.9.6"
  },
  "orig_nbformat": 4
 },
 "nbformat": 4,
 "nbformat_minor": 2
}
